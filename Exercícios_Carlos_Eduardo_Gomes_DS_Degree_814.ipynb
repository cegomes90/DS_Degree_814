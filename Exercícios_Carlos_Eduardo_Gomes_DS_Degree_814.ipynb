{
 "cells": [
  {
   "cell_type": "markdown",
   "id": "617c5957",
   "metadata": {},
   "source": [
    "Aluno: Carlos Eduardo Gomes\n",
    "\n",
    "E-mail: cegomes90@outlook.com\n",
    "\n",
    "DS Degree Let's Code 814\n",
    "\n",
    "Módulo 04\n",
    "\n",
    "Exercícios\n",
    "\n",
    "Professores: Patrícia e Sérgio\n"
   ]
  },
  {
   "cell_type": "code",
   "execution_count": null,
   "id": "311f9d6d",
   "metadata": {},
   "outputs": [],
   "source": []
  },
  {
   "cell_type": "markdown",
   "id": "b5e28640",
   "metadata": {},
   "source": [
    "# Aula 01 - Git"
   ]
  },
  {
   "cell_type": "markdown",
   "id": "8fa858dc",
   "metadata": {},
   "source": [
    "**Exercício:**\n",
    "1. Cadastre-se no Github\n",
    "2. Instale o git em sua máquina\n",
    "3. Teste o comando `git` no terminal/cmd\n",
    "4. Realize as configurações necessárias\n",
    "5. Teste as configurações\n",
    "6. Crie um projeto dentro do seu repositório remoto"
   ]
  },
  {
   "cell_type": "code",
   "execution_count": null,
   "id": "8a10d761",
   "metadata": {},
   "outputs": [],
   "source": [
    "# OK"
   ]
  },
  {
   "cell_type": "markdown",
   "id": "9fa9c7b1",
   "metadata": {},
   "source": [
    "Clone o repositório de aula\n",
    "\n",
    "Clone o repositório que você criou anteriormente\n",
    "\n",
    "Copie a pasta do repositório de aula para o seu repositório local\n",
    "\n",
    "Dentro do seu repositório criado local, crie uma pasta para cada módulo do curso e adicione o arquivo .keep\n",
    "\n",
    "Utilize os comandos ensinados para enviar essas atualizações para o seu repositório criado remoto\n",
    "\n",
    "Passe o link do seu repositório remoto para os professores"
   ]
  },
  {
   "cell_type": "code",
   "execution_count": null,
   "id": "2e5718cc",
   "metadata": {},
   "outputs": [],
   "source": [
    "https://github.com/cegomes90/DS_Degree_814.git"
   ]
  },
  {
   "cell_type": "code",
   "execution_count": null,
   "id": "d666bbf3",
   "metadata": {},
   "outputs": [],
   "source": []
  },
  {
   "cell_type": "code",
   "execution_count": null,
   "id": "a663150b",
   "metadata": {},
   "outputs": [],
   "source": [
    "import pandas as pd \n",
    "import numpy as np"
   ]
  },
  {
   "cell_type": "code",
   "execution_count": null,
   "id": "43a135d2",
   "metadata": {},
   "outputs": [],
   "source": []
  },
  {
   "cell_type": "markdown",
   "id": "346be497",
   "metadata": {},
   "source": [
    "# Aula 02 - NumPy"
   ]
  },
  {
   "cell_type": "markdown",
   "id": "08a2e334",
   "metadata": {},
   "source": [
    "1 - Selecione todos os valores ímpares do seguinte array:\n",
    "\n",
    "array = [1, 2, 3, 4, 5, 6, 7, 8, 9]"
   ]
  },
  {
   "cell_type": "code",
   "execution_count": null,
   "id": "4a60c831",
   "metadata": {},
   "outputs": [],
   "source": [
    "array = np.array([1, 2, 3, 4, 5, 6, 7, 8, 9])\n",
    "array[array%2==1]"
   ]
  },
  {
   "cell_type": "code",
   "execution_count": null,
   "id": "d280f613",
   "metadata": {},
   "outputs": [],
   "source": []
  },
  {
   "cell_type": "markdown",
   "id": "f6162b6a",
   "metadata": {},
   "source": [
    "2 - Substitua os valores ímpares do seguinte array por 0:\n",
    "\n",
    "array = [1, 2, 3, 4, 5, 6, 7, 8, 9]"
   ]
  },
  {
   "cell_type": "code",
   "execution_count": null,
   "id": "df023fe3",
   "metadata": {},
   "outputs": [],
   "source": [
    "# primeira forma de solução\n",
    "arr = np.array([1, 2, 3, 4, 5, 6, 7, 8, 9])\n",
    "[0 if i%2==1 else i for i in arr ]\n",
    "\n",
    "# segunda forma de solução\n",
    "arr[arr%2==1] = 0\n",
    "arr\n",
    "\n",
    "# terceira forma de solução\n",
    "np.where(arr % 2 == 1, 0, arr)"
   ]
  },
  {
   "cell_type": "code",
   "execution_count": null,
   "id": "ffea7be0",
   "metadata": {},
   "outputs": [],
   "source": []
  },
  {
   "cell_type": "markdown",
   "id": "5ffa38cc",
   "metadata": {},
   "source": [
    "3 - Considere o dataset da iris disponível em: url = 'https://archive.ics.uci.edu/ml/machine-learning-databases/iris/iris.data'\n",
    "\n",
    "Nesse dataset temos as seguintes informações:\n",
    "\n",
    "Coluna 1. sepal length em cm\n",
    "\n",
    "Coluna 2. sepal width em cm\n",
    "\n",
    "Coluna 3. petal length em cm\n",
    "\n",
    "Coluna 4. petal width em cm\n",
    "\n",
    "Coluna 5. classe:\n",
    "\n",
    "       -- Iris Setosa \n",
    "       \n",
    "       -- Iris Versicolour \n",
    "       \n",
    "       -- Iris Virginica \n",
    "       \n",
    "Utilizando o método np.genfromtxt(), importe as 4 primeiras colunas do dataset do íris e print as 10 primeiras linhas"
   ]
  },
  {
   "cell_type": "code",
   "execution_count": null,
   "id": "3453d8d6",
   "metadata": {},
   "outputs": [],
   "source": [
    "# Solution\n",
    "url = 'https://archive.ics.uci.edu/ml/machine-learning-databases/iris/iris.data'\n",
    "iris = np.genfromtxt(url, delimiter=',', dtype='float', usecols=[0,1,2,3])\n",
    "names = ('sepallength', 'sepalwidth', 'petallength', 'petalwidth', 'species')\n",
    "\n",
    "# Print the first 3 rows\n",
    "iris[:10]"
   ]
  },
  {
   "cell_type": "code",
   "execution_count": null,
   "id": "aa8d90dc",
   "metadata": {},
   "outputs": [],
   "source": []
  },
  {
   "cell_type": "markdown",
   "id": "85056b8d",
   "metadata": {},
   "source": [
    "4 - Calcule a média, mediana e desvio padrão da coluna sepallenght"
   ]
  },
  {
   "cell_type": "code",
   "execution_count": null,
   "id": "434f47ba",
   "metadata": {},
   "outputs": [],
   "source": [
    "# Input\n",
    "sepallength = np.genfromtxt(url, delimiter=',', dtype='float', usecols=[0])\n",
    "\n",
    "# Solution\n",
    "mu, med, sd = np.mean(sepallength), np.median(sepallength), np.std(sepallength)\n",
    "print(mu, med, sd)"
   ]
  },
  {
   "cell_type": "code",
   "execution_count": null,
   "id": "2a3d9313",
   "metadata": {},
   "outputs": [],
   "source": []
  },
  {
   "cell_type": "markdown",
   "id": "432597d0",
   "metadata": {},
   "source": [
    "5 - Filtre a matriz para conter apenas dados nos quais petallength (3ª coluna) > 1.5 e sepallength (1ª coluna) < 5.0"
   ]
  },
  {
   "cell_type": "code",
   "execution_count": null,
   "id": "7799a3e1",
   "metadata": {},
   "outputs": [],
   "source": [
    "condition = (iris[:, 2] > 1.5) & (iris[:, 0] < 5.0)\n",
    "iris[condition]"
   ]
  },
  {
   "cell_type": "code",
   "execution_count": null,
   "id": "45d4d830",
   "metadata": {},
   "outputs": [],
   "source": []
  },
  {
   "cell_type": "markdown",
   "id": "e7c11d9b",
   "metadata": {},
   "source": [
    "6 - Esse dataset possui nans?"
   ]
  },
  {
   "cell_type": "code",
   "execution_count": null,
   "id": "ad29e552",
   "metadata": {},
   "outputs": [],
   "source": [
    "iris[np.isnan(iris)]"
   ]
  },
  {
   "cell_type": "code",
   "execution_count": null,
   "id": "31e7c3cc",
   "metadata": {},
   "outputs": [],
   "source": []
  },
  {
   "cell_type": "markdown",
   "id": "2ed90b66",
   "metadata": {},
   "source": [
    "7 - Crie uma coluna de volume sabendo que ele pode ser calculado por (pi x petallength x sepal_length^2)/3"
   ]
  },
  {
   "cell_type": "code",
   "execution_count": null,
   "id": "ddce9d3d",
   "metadata": {},
   "outputs": [],
   "source": [
    "# Solução\n",
    "# Computa o volume\n",
    "sepallength = iris[:, 0].astype('float')\n",
    "petallength = iris[:, 2].astype('float')\n",
    "volume = np.pi * petallength * (sepallength**2)/3\n",
    "\n",
    "# Adiciona a segunda dimensão no vetor de volume\n",
    "# volume = volume[:, np.newaxis]\n",
    "volume = volume.reshape(-1,1)\n",
    "\n",
    "# Adiciona o vetor volume como coluna da matriz original\n",
    "out = np.hstack([iris, volume])\n",
    "\n",
    "# View\n",
    "out[:4]"
   ]
  },
  {
   "cell_type": "code",
   "execution_count": null,
   "id": "92712cba",
   "metadata": {},
   "outputs": [],
   "source": []
  },
  {
   "cell_type": "markdown",
   "id": "84a6cce5",
   "metadata": {},
   "source": [
    "# Aula 03 - Pandas "
   ]
  },
  {
   "cell_type": "markdown",
   "id": "1dfd9db4",
   "metadata": {},
   "source": [
    "Aula_1_-_Criação_df_loc_iloc"
   ]
  },
  {
   "cell_type": "markdown",
   "id": "a55e3a19",
   "metadata": {},
   "source": [
    "1 - Realize os passos seguintes utilizando o mesmo dataset do íris da aula anterior ('https://archive.ics.uci.edu/ml/machine-learning-databases/iris/iris.data').\n",
    "\n",
    "a. Use o pandas para ler o arquivo como um dataframe. Obs: precisa ler o dataframe sem que a primeira linha corresponda ao nome das colunas."
   ]
  },
  {
   "cell_type": "code",
   "execution_count": null,
   "id": "618c00dd",
   "metadata": {},
   "outputs": [],
   "source": [
    "df = pd.read_csv('https://archive.ics.uci.edu/ml/machine-learning-databases/iris/iris.data', header=None)\n",
    "\n",
    "df.head()"
   ]
  },
  {
   "cell_type": "markdown",
   "id": "4c48810e",
   "metadata": {},
   "source": [
    "b. Sabendo que as cinco colunas correspondem, nessa ordem, a:\n",
    "\n",
    "sepal length (cm)\n",
    "\n",
    "sepal width (cm)\n",
    "\n",
    "petal length (cm)\n",
    "\n",
    "petal width (cm)\n",
    "\n",
    "class:\n",
    "\n",
    "Iris Setosa\n",
    "\n",
    "Iris Versicolor\n",
    "\n",
    "Iris Virginica\n",
    "\n",
    "Leia novamente o arquivo passando o nome das colunas como argumento."
   ]
  },
  {
   "cell_type": "code",
   "execution_count": null,
   "id": "98dc6cad",
   "metadata": {},
   "outputs": [],
   "source": [
    "cols = ['sepal_length', 'sepal_width', 'petal_length', 'petal_width', 'class']\n",
    "df = pd.read_csv('https://archive.ics.uci.edu/ml/machine-learning-databases/iris/iris.data', header=None, names=cols)\n",
    "\n",
    "df.head()"
   ]
  },
  {
   "cell_type": "markdown",
   "id": "08413333",
   "metadata": {},
   "source": [
    "c. Crie uma coluna para o volume sabendo que ele é calculado por (pi x petallength x sepal_length^2)/3"
   ]
  },
  {
   "cell_type": "code",
   "execution_count": null,
   "id": "bb0d819a",
   "metadata": {},
   "outputs": [],
   "source": [
    "import numpy as np\n",
    "df['volume'] = (np.pi*df.petal_length*df.sepal_length**2)/3"
   ]
  },
  {
   "cell_type": "markdown",
   "id": "a1860e77",
   "metadata": {},
   "source": [
    "d. Calcule a média de cada atributo das flores."
   ]
  },
  {
   "cell_type": "code",
   "execution_count": null,
   "id": "93352dbe",
   "metadata": {},
   "outputs": [],
   "source": [
    "df.mean()"
   ]
  },
  {
   "cell_type": "markdown",
   "id": "614ad8dc",
   "metadata": {},
   "source": [
    "e. Novamente, calcule a média de cada atributo das flores só que agora faça-o separadamente para cada um dos tipos de íris indicados na coluna \"class\". Utilize o loop for para reduzir quantidade de linhas.\n",
    "Existe diferença entre as médias de cada um dos atributos das flores?"
   ]
  },
  {
   "cell_type": "code",
   "execution_count": null,
   "id": "a8029791",
   "metadata": {},
   "outputs": [],
   "source": [
    "for i in ['Iris-setosa', 'Iris-versicolor', 'Iris-virginica']:\n",
    "    print(i, ':\\n', df[df['class']==i].mean(), '\\n')"
   ]
  },
  {
   "cell_type": "markdown",
   "id": "3cc495ce",
   "metadata": {},
   "source": [
    "f. Adicione uma nova coluna com o valor da média de 'sepal length' apenas para a íris da classe Iris-setosa."
   ]
  },
  {
   "cell_type": "code",
   "execution_count": null,
   "id": "61326417",
   "metadata": {},
   "outputs": [],
   "source": [
    "df.loc[df['class']=='Iris-setosa', 'media_sepal_length'] = df.loc[df['class']=='Iris-setosa', 'sepal_length'].mean()"
   ]
  },
  {
   "cell_type": "markdown",
   "id": "de82b773",
   "metadata": {},
   "source": [
    "g. Adicione uma coluna com a média de 'sepal length' de tal forma que cada tipo de íris tenha seu respectivo valor de média. Utilize o loop for e faça isso sem utilizar métodos que não foram ensinados na aula de hoje."
   ]
  },
  {
   "cell_type": "code",
   "execution_count": null,
   "id": "d53f1dd5",
   "metadata": {},
   "outputs": [],
   "source": [
    "for i in ['Iris-setosa', 'Iris-versicolor', 'Iris-virginica']:\n",
    "    df.loc[df['class']==i, 'sepal_length_mean'] = df.loc[df['class']==i, 'sepal_length'].mean() "
   ]
  },
  {
   "cell_type": "code",
   "execution_count": null,
   "id": "59427210",
   "metadata": {},
   "outputs": [],
   "source": []
  },
  {
   "cell_type": "markdown",
   "id": "8c06cddb",
   "metadata": {},
   "source": [
    "Aula 2 - Leitura de dados e Métodos úteis"
   ]
  },
  {
   "cell_type": "markdown",
   "id": "a1bd87e7",
   "metadata": {},
   "source": [
    "Considere a existência de três tabelas distintas:\n",
    "\n",
    "customer.csv : Possui a informação dos clientes em duas colunas: customer id customer name\n",
    "\n",
    "products.csv : Contém informação dos produtos vendidos pela empresa em três colunas - p_id (product id), product (name) e price\n",
    "\n",
    "sales.csv : Contém informações das vendas realizadas em seis colunas - sale_id, c_id (customer id), p_id (product_id), qty (quantity sold), store (name)\n",
    "\n",
    "Conhecendo as bases responda:\n",
    "\n",
    "a) Quais foram os produtos vendidos?"
   ]
  },
  {
   "cell_type": "code",
   "execution_count": null,
   "id": "4823c170",
   "metadata": {},
   "outputs": [],
   "source": [
    "import pandas as pd \n",
    "sales=pd.read_csv(\"data/sales.csv\") # reading from csv file\n",
    "print(sales)"
   ]
  },
  {
   "cell_type": "code",
   "execution_count": null,
   "id": "8bea5803",
   "metadata": {},
   "outputs": [],
   "source": [
    "vendidos = sales['product'].unique()\n",
    "vendidos"
   ]
  },
  {
   "cell_type": "markdown",
   "id": "d5d14118",
   "metadata": {},
   "source": [
    "b) E os não vendidos?"
   ]
  },
  {
   "cell_type": "code",
   "execution_count": null,
   "id": "672bb6ee",
   "metadata": {},
   "outputs": [],
   "source": [
    "products=pd.read_csv(\"data/products.csv\") \n",
    "todos_produtos = products['product'].unique()\n",
    "todos_produtos"
   ]
  },
  {
   "cell_type": "code",
   "execution_count": null,
   "id": "3870a7d0",
   "metadata": {},
   "outputs": [],
   "source": [
    "print(\"Os produtos que não foram vendido: \", [i for i in todos_produtos if i not in vendidos])"
   ]
  },
  {
   "cell_type": "markdown",
   "id": "1442e88c",
   "metadata": {},
   "source": [
    "c) Quais foram as cinco maiores vendas? Salve essas vendas em um arquivo excel."
   ]
  },
  {
   "cell_type": "code",
   "execution_count": null,
   "id": "f80d68aa",
   "metadata": {},
   "outputs": [],
   "source": [
    "maiores_vendas = sales.sort_values('qty', ascending=False).head()\n",
    "maiores_vendas"
   ]
  },
  {
   "cell_type": "code",
   "execution_count": null,
   "id": "fd4ec233",
   "metadata": {},
   "outputs": [],
   "source": [
    "maiores_vendas.to_excel('./data/maiores_vendas.xlsx')"
   ]
  },
  {
   "cell_type": "markdown",
   "id": "8278543a",
   "metadata": {},
   "source": [
    "d) Liste a quantidade vendida de cada produto. Utilize um loop for para isso."
   ]
  },
  {
   "cell_type": "code",
   "execution_count": null,
   "id": "61cb2430",
   "metadata": {},
   "outputs": [],
   "source": [
    "for i in sales['product'].unique():\n",
    "    print(i, sales[sales['product']==i].qty.sum())"
   ]
  },
  {
   "cell_type": "markdown",
   "id": "d783fd23",
   "metadata": {},
   "source": [
    "e) Liste a quantidade vendida de cada loja."
   ]
  },
  {
   "cell_type": "code",
   "execution_count": null,
   "id": "c75411cb",
   "metadata": {},
   "outputs": [],
   "source": [
    "for i in sales['store'].unique():\n",
    "    print(i, sales[sales['store']==i].qty.sum())"
   ]
  },
  {
   "cell_type": "markdown",
   "id": "3a5e1daa",
   "metadata": {},
   "source": [
    "f) Liste a quantidade vendida de cada produto por loja."
   ]
  },
  {
   "cell_type": "code",
   "execution_count": null,
   "id": "6247e9de",
   "metadata": {},
   "outputs": [],
   "source": [
    "lojas = sales['store'].unique()\n",
    "produtos = sales['product'].unique()\n",
    "for i in lojas:\n",
    "    for j in produtos:\n",
    "        print(i, j, sales[(sales['store']==i) & (sales['product']==j)].qty.sum())"
   ]
  },
  {
   "cell_type": "code",
   "execution_count": null,
   "id": "7d34492b",
   "metadata": {},
   "outputs": [],
   "source": []
  },
  {
   "cell_type": "markdown",
   "id": "2ca04682",
   "metadata": {},
   "source": [
    "Aula 3 - Limpeza e transformação de dados"
   ]
  },
  {
   "cell_type": "markdown",
   "id": "9312c150",
   "metadata": {},
   "source": [
    "1 - Converta os países do dataframe abaixo para variáveis dummies eliminando a primeira coluna e utilizando 'Country' como prefixo no nome das colunas."
   ]
  },
  {
   "cell_type": "code",
   "execution_count": null,
   "id": "968e8d26",
   "metadata": {},
   "outputs": [],
   "source": [
    "ids = [11, 22, 33, 44, 55, 66, 77]\n",
    "countries = ['Brasil', 'Argentina', 'Peru', 'Bolívia', 'Uruguai']\n",
    "sales = [42, 53, 37, 45, 20]\n",
    "\n",
    "df = pd.DataFrame(list(zip(ids, countries, sales)),\n",
    "                  columns=['Ids', 'Countries', 'Sales'])\n",
    "df.head()"
   ]
  },
  {
   "cell_type": "code",
   "execution_count": null,
   "id": "ecab87c5",
   "metadata": {},
   "outputs": [],
   "source": [
    "df.drop(['Ids'], axis = 1, inplace = True)\n",
    "df"
   ]
  },
  {
   "cell_type": "code",
   "execution_count": null,
   "id": "24c7ea37",
   "metadata": {},
   "outputs": [],
   "source": [
    "pd.get_dummies(df, columns=[\"Countries\"])"
   ]
  },
  {
   "cell_type": "markdown",
   "id": "17be01e4",
   "metadata": {},
   "source": [
    "2 - Considere os dados do arquivo \"german_credit.csv\" que contem dados de empréstimos realizados por um banco.\n",
    "\n",
    "a. Tem nulos nesse df? Se sim, preencha os nulos da forma que o grupo decidir."
   ]
  },
  {
   "cell_type": "code",
   "execution_count": null,
   "id": "bc7860a0",
   "metadata": {},
   "outputs": [],
   "source": [
    "df = pd.read_csv(\"D:\\OneDrive\\LetsCode\\DS_Degree\\Modulo_04\\DS_Degree_814\\Lets_Code_DS_Degree_Alunos\\Módulo 3 - Pandas\\data\\german_credit.csv\", encoding='utf-8', sep=\",\")\n",
    "df"
   ]
  },
  {
   "cell_type": "code",
   "execution_count": null,
   "id": "3df268fe",
   "metadata": {},
   "outputs": [],
   "source": [
    "df.isna().sum()\n",
    "# Temos nulos em \"Saving accounts\" (183) e \"Checking account\" (394)"
   ]
  },
  {
   "cell_type": "code",
   "execution_count": null,
   "id": "e260eaa8",
   "metadata": {},
   "outputs": [],
   "source": [
    "# Vamos preencher os NAs com o valor que mais aparece: \"little\"\n",
    "df[\"Saving accounts\"].describe()"
   ]
  },
  {
   "cell_type": "code",
   "execution_count": null,
   "id": "9bd52e97",
   "metadata": {},
   "outputs": [],
   "source": [
    "df[\"Saving accounts\"] = df[\"Saving accounts\"].fillna(\"little\")"
   ]
  },
  {
   "cell_type": "code",
   "execution_count": null,
   "id": "c1284f15",
   "metadata": {},
   "outputs": [],
   "source": [
    "# Vamos preencher os NAs com o valor que mais aparece: \"little\"\n",
    "df[\"Checking account\"].describe()"
   ]
  },
  {
   "cell_type": "code",
   "execution_count": null,
   "id": "54579818",
   "metadata": {},
   "outputs": [],
   "source": [
    "df[\"Checking account\"] = df[\"Checking account\"].fillna(\"little\")"
   ]
  },
  {
   "cell_type": "code",
   "execution_count": null,
   "id": "93d8cff6",
   "metadata": {},
   "outputs": [],
   "source": [
    "df.isna().sum()\n",
    "# Removemos os NAs"
   ]
  },
  {
   "cell_type": "markdown",
   "id": "720f7098",
   "metadata": {},
   "source": [
    "b. Converta as variáveis categóricas em numéricas."
   ]
  },
  {
   "cell_type": "code",
   "execution_count": null,
   "id": "557b2294",
   "metadata": {},
   "outputs": [],
   "source": [
    "df.dtypes"
   ]
  },
  {
   "cell_type": "code",
   "execution_count": null,
   "id": "ee7b427a",
   "metadata": {},
   "outputs": [],
   "source": [
    "print(df.Sex.value_counts())\n",
    "print(\"-----\")\n",
    "print(df.Housing.value_counts())\n",
    "print(\"-----\")\n",
    "print(df.Purpose.value_counts())\n",
    "print(\"-----\")\n",
    "print(df[\"Saving accounts\"].value_counts())\n",
    "print(\"-----\")\n",
    "print(df[\"Checking account\"].value_counts())"
   ]
  },
  {
   "cell_type": "code",
   "execution_count": null,
   "id": "80249625",
   "metadata": {},
   "outputs": [],
   "source": [
    "df.Sex.replace({'male':1, 'female':0}, inplace = True)\n",
    "df.Housing.replace({'own':1, 'rent':2, 'free':3} , inplace = True)\n",
    "df.Purpose.replace({'car':1, 'radio/TV':2, 'furniture/equipment':3, 'business':4, 'education':5, 'repairs':6, 'vacation/others':7, 'domestic appliances':8} , inplace = True)"
   ]
  },
  {
   "cell_type": "code",
   "execution_count": null,
   "id": "f5988770",
   "metadata": {},
   "outputs": [],
   "source": [
    "df.dtypes"
   ]
  },
  {
   "cell_type": "code",
   "execution_count": null,
   "id": "b49ca70d",
   "metadata": {},
   "outputs": [],
   "source": [
    "df"
   ]
  },
  {
   "cell_type": "code",
   "execution_count": null,
   "id": "d6e6912d",
   "metadata": {},
   "outputs": [],
   "source": [
    "df[\"Saving accounts\"].replace({'little':1, 'moderate':2, 'quite rich':3, 'rich':4} , inplace = True)\n",
    "df[\"Checking account\"].replace({'little':1, 'moderate':2, 'rich':3} , inplace = True)\n",
    "df"
   ]
  },
  {
   "cell_type": "code",
   "execution_count": null,
   "id": "a07d258a",
   "metadata": {},
   "outputs": [],
   "source": [
    "df.dtypes"
   ]
  },
  {
   "cell_type": "markdown",
   "id": "536a7cea",
   "metadata": {},
   "source": [
    "3 - Para esse exercício vamos considerar o dataset https://archive.ics.uci.edu/ml/datasets/automobile que traz a especificação de modelos de carros em 1985. https://archive.ics.uci.edu/ml/machine-learning-databases/autos/imports-85.data"
   ]
  },
  {
   "cell_type": "code",
   "execution_count": null,
   "id": "cd03d8f0",
   "metadata": {},
   "outputs": [],
   "source": [
    "# Considere a seguinte lista como o nome das colunas do dataset\n",
    "headers = [\"symboling\", \"normalized_losses\", \"make\", \"fuel_type\", \"aspiration\",\n",
    "           \"num_doors\", \"body_style\", \"drive_wheels\", \"engine_location\",\n",
    "           \"wheel_base\", \"length\", \"width\", \"height\", \"curb_weight\",\n",
    "           \"engine_type\", \"num_cylinders\", \"engine_size\", \"fuel_system\",\n",
    "           \"bore\", \"stroke\", \"compression_ratio\", \"horsepower\", \"peak_rpm\",\n",
    "           \"city_mpg\", \"highway_mpg\", \"price\"]"
   ]
  },
  {
   "cell_type": "code",
   "execution_count": null,
   "id": "81654159",
   "metadata": {},
   "outputs": [],
   "source": [
    "df = pd.read_csv('https://archive.ics.uci.edu/ml/machine-learning-databases/autos/imports-85.data', header = None)\n",
    "df\n",
    "df.columns = headers\n",
    "df"
   ]
  },
  {
   "cell_type": "code",
   "execution_count": null,
   "id": "49167863",
   "metadata": {},
   "outputs": [],
   "source": [
    "missing = [\"normalized_losses\", \"num_doors\", \"horsepower\", \"peak_rpm\", \"price\" ]\n",
    "# Chegou-se a esse valor, fazendo variável por variável o seguinte comando:\n",
    "print(df.price.value_counts())"
   ]
  },
  {
   "cell_type": "markdown",
   "id": "d486a3c6",
   "metadata": {},
   "source": [
    "a. Esse dataset possui nans? Se sim, o grupo precisa entrar em um acordo de como tratá-los."
   ]
  },
  {
   "cell_type": "code",
   "execution_count": null,
   "id": "63dcf62b",
   "metadata": {},
   "outputs": [],
   "source": [
    "df.isna().sum()\n",
    "# Não possui\n",
    "# Porém, verificou-se um por um, devido ao valor \"?\" presente nos dados.\n",
    "# Dessa forma, encontrou-se valores missing: foi considerado o valor \"?\" como missing."
   ]
  },
  {
   "cell_type": "code",
   "execution_count": null,
   "id": "81645ba6",
   "metadata": {},
   "outputs": [],
   "source": [
    "# Vamos excluir\n",
    "index_names = df[df['normalized_losses'] == \"?\" ].index\n",
    "# Deletando as linhas com esses índices do DataFrame\n",
    "df.drop(index_names , inplace=True)"
   ]
  },
  {
   "cell_type": "code",
   "execution_count": null,
   "id": "9d5d0737",
   "metadata": {},
   "outputs": [],
   "source": [
    "missing = [\"normalized_losses\", \"num_doors\", \"horsepower\", \"peak_rpm\", \"price\" ]"
   ]
  },
  {
   "cell_type": "code",
   "execution_count": null,
   "id": "0b21a5e8",
   "metadata": {},
   "outputs": [],
   "source": [
    "# Vamos excluir\n",
    "index_names = df[df['num_doors'] == \"?\" ].index\n",
    "# Deletando as linhas com esses índices do DataFrame\n",
    "df.drop(index_names , inplace=True)"
   ]
  },
  {
   "cell_type": "code",
   "execution_count": null,
   "id": "59ad64cf",
   "metadata": {},
   "outputs": [],
   "source": [
    "# Vamos excluir\n",
    "index_names = df[df['horsepower'] == \"?\" ].index\n",
    "# Deletando as linhas com esses índices do DataFrame\n",
    "df.drop(index_names , inplace=True)"
   ]
  },
  {
   "cell_type": "code",
   "execution_count": null,
   "id": "95204a18",
   "metadata": {},
   "outputs": [],
   "source": [
    "# Vamos excluir\n",
    "index_names = df[df['peak_rpm'] == \"?\" ].index\n",
    "# Deletando as linhas com esses índices do DataFrame\n",
    "df.drop(index_names , inplace=True)"
   ]
  },
  {
   "cell_type": "code",
   "execution_count": null,
   "id": "a28d9707",
   "metadata": {},
   "outputs": [],
   "source": [
    "# Vamos excluir\n",
    "index_names = df[df['price'] == \"?\" ].index\n",
    "# Deletando as linhas com esses índices do DataFrame\n",
    "df.drop(index_names , inplace=True)"
   ]
  },
  {
   "cell_type": "code",
   "execution_count": null,
   "id": "00147cdc",
   "metadata": {},
   "outputs": [],
   "source": [
    "df\n",
    "df.dropna(axis = 0, inplace = True)\n",
    "df"
   ]
  },
  {
   "cell_type": "code",
   "execution_count": null,
   "id": "8a23edd4",
   "metadata": {},
   "outputs": [],
   "source": [
    "df.isna().sum()"
   ]
  },
  {
   "cell_type": "code",
   "execution_count": null,
   "id": "9b349e7f",
   "metadata": {},
   "outputs": [],
   "source": [
    "df.reset_index(inplace = True)\n",
    "df"
   ]
  },
  {
   "cell_type": "code",
   "execution_count": null,
   "id": "6da2c399",
   "metadata": {},
   "outputs": [],
   "source": [
    "df.drop(['index'], axis = 1, inplace = True)\n",
    "df"
   ]
  },
  {
   "cell_type": "markdown",
   "id": "5d098710",
   "metadata": {},
   "source": [
    "b. Esse dataset possui linhas duplicadas?"
   ]
  },
  {
   "cell_type": "code",
   "execution_count": null,
   "id": "473bb5d9",
   "metadata": {},
   "outputs": [],
   "source": [
    "df.duplicated().sum()\n",
    "# Não possui"
   ]
  },
  {
   "cell_type": "markdown",
   "id": "ae7c5048",
   "metadata": {},
   "source": [
    "c. O consumo dos automóveis na cidade e rodovia, representados pelas colunas \"city-mpg\" e \"highway-mpg\" respectivamente, estão na unidade mpg (miles per gallon). Converta essas colunas para consumo em L/100km sabendo que a conversão é dada por:\n",
    "\n",
    "L/100km = 235 / mpg"
   ]
  },
  {
   "cell_type": "code",
   "execution_count": null,
   "id": "3c3f3720",
   "metadata": {},
   "outputs": [],
   "source": [
    "df[\"city_km\"] = ((100 * df.city_mpg) / 235)\n",
    "df[\"highway_km\"] = ((100 * df.highway_mpg) / 235)\n",
    "df"
   ]
  },
  {
   "cell_type": "markdown",
   "id": "2340635f",
   "metadata": {},
   "source": [
    "d. Converta as colunas \"body_style\" e \"drive_wheels\" para variáveis dummies."
   ]
  },
  {
   "cell_type": "code",
   "execution_count": null,
   "id": "9cc692c9",
   "metadata": {},
   "outputs": [],
   "source": [
    "df_2 = pd.get_dummies(df, columns=['body_style', 'drive_wheels'])\n",
    "df_2"
   ]
  },
  {
   "cell_type": "code",
   "execution_count": null,
   "id": "8418a1e3",
   "metadata": {},
   "outputs": [],
   "source": []
  },
  {
   "cell_type": "markdown",
   "id": "fad7a08e",
   "metadata": {},
   "source": [
    "Aula 4 - Manipulação de df: groupby e merge"
   ]
  },
  {
   "cell_type": "markdown",
   "id": "f2eb4cf5",
   "metadata": {},
   "source": [
    "1 - Considere a existência de três tabelas distintas:\n",
    "    \n",
    "customer.csv : Possui a informação dos clientes em duas colunas: customer id customer name\n",
    "        \n",
    "products.csv : Conté informação dos produtos vendidos pela empresa em três colunas - p_id (product id), product (name) e price\n",
    "    \n",
    "sales.csv : Contém informações das vendas realizadas em seis colunas - sale_id, c_id (customer id), p_id (product_id), qty (quantity sold), store (name)\n",
    "    \n",
    "Conhecendo as bases e utilizando os métodos de concatenação de bases responda:\n",
    "\n",
    "a) Quais produtos não foram vendidos?"
   ]
  },
  {
   "cell_type": "code",
   "execution_count": null,
   "id": "5c3c8f87",
   "metadata": {},
   "outputs": [],
   "source": [
    "import pandas as pd \n",
    "sales = pd.read_csv(\"data/sales.csv\") \n",
    "products = pd.read_csv(\"data/products.csv\") \n",
    "\n",
    "# Faz um merge priorizando as informações da tabela de produtos\n",
    "my_data = pd.merge(sales, products, on=['p_id','product'],how='right')\n",
    " \n",
    "# Seleciona todos as linhas em que o sale_id é nan\n",
    "my_data = my_data[my_data['sale_id'].isna()]\n",
    "\n",
    "# Seleciona os produtos que não foram vendidos\n",
    "print(my_data.loc[:,'product'])"
   ]
  },
  {
   "cell_type": "markdown",
   "id": "b0ebfa15",
   "metadata": {},
   "source": [
    "b) Quantos clientes não realizaram uma compra?"
   ]
  },
  {
   "cell_type": "code",
   "execution_count": null,
   "id": "6b2639a3",
   "metadata": {},
   "outputs": [],
   "source": [
    "customers = pd.read_csv(\"data/customer.csv\") \n",
    "\n",
    "# Faz um merge priorizando as informações da tabela de customers\n",
    "my_data = pd.merge(sales, customers, on='c_id', how='right')\n",
    "\n",
    "# Seleciona todos as linhas em que o sale_id é nan\n",
    "my_data = my_data[my_data['sale_id'].isna()] \n",
    "\n",
    "# Seleciona os clientes que não realizaram compras\n",
    "print(my_data.loc[:,'Customer']) "
   ]
  },
  {
   "cell_type": "markdown",
   "id": "7106479e",
   "metadata": {},
   "source": [
    "c) Liste a quantidade vendida e o faturamento de cada produto"
   ]
  },
  {
   "cell_type": "code",
   "execution_count": null,
   "id": "1d01e100",
   "metadata": {},
   "outputs": [],
   "source": [
    "my_sum=pd.merge(sales, products, how='left', on=['p_id','product'])\n",
    "\n",
    "# Calcula valor total de cada sale_id\n",
    "my_sum['total_sale'] = my_sum['qty']*my_sum['price']\n",
    "\n",
    "# Agrupa por produto e soma a quantidade vendida e o valor total da compra\n",
    "my_sum.groupby(['product'])[['qty', 'total_sale']].sum()"
   ]
  },
  {
   "cell_type": "markdown",
   "id": "eb209352",
   "metadata": {},
   "source": [
    "d) Liste a quantidade vendida de cada produto por loja"
   ]
  },
  {
   "cell_type": "code",
   "execution_count": null,
   "id": "58ee16cb",
   "metadata": {},
   "outputs": [],
   "source": [
    "my_sale = sales.groupby(['product','p_id', 'store'])[['qty']].sum().reset_index()\n",
    "my_sale"
   ]
  },
  {
   "cell_type": "markdown",
   "id": "e0cbb602",
   "metadata": {},
   "source": [
    "e) Qual loja teve maior faturamento?"
   ]
  },
  {
   "cell_type": "code",
   "execution_count": null,
   "id": "081d3e41",
   "metadata": {},
   "outputs": [],
   "source": [
    "my_sum.groupby(['store'])[['total_sale']].sum().sort_values('total_sale').tail(1)"
   ]
  },
  {
   "cell_type": "markdown",
   "id": "55b5ac5b",
   "metadata": {},
   "source": [
    "f) Qual produto foi o mais vendido?"
   ]
  },
  {
   "cell_type": "code",
   "execution_count": null,
   "id": "eaec5c85",
   "metadata": {},
   "outputs": [],
   "source": [
    "my_sum.groupby(['product'])[['qty']].sum().sort_values('qty').tail(1)"
   ]
  },
  {
   "cell_type": "code",
   "execution_count": null,
   "id": "854bdc67",
   "metadata": {},
   "outputs": [],
   "source": []
  }
 ],
 "metadata": {
  "kernelspec": {
   "display_name": "Python 3",
   "language": "python",
   "name": "python3"
  },
  "language_info": {
   "codemirror_mode": {
    "name": "ipython",
    "version": 3
   },
   "file_extension": ".py",
   "mimetype": "text/x-python",
   "name": "python",
   "nbconvert_exporter": "python",
   "pygments_lexer": "ipython3",
   "version": "3.8.8"
  },
  "varInspector": {
   "cols": {
    "lenName": 16,
    "lenType": 16,
    "lenVar": 40
   },
   "kernels_config": {
    "python": {
     "delete_cmd_postfix": "",
     "delete_cmd_prefix": "del ",
     "library": "var_list.py",
     "varRefreshCmd": "print(var_dic_list())"
    },
    "r": {
     "delete_cmd_postfix": ") ",
     "delete_cmd_prefix": "rm(",
     "library": "var_list.r",
     "varRefreshCmd": "cat(var_dic_list()) "
    }
   },
   "types_to_exclude": [
    "module",
    "function",
    "builtin_function_or_method",
    "instance",
    "_Feature"
   ],
   "window_display": false
  }
 },
 "nbformat": 4,
 "nbformat_minor": 5
}
